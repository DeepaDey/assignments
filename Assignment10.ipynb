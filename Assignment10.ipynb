{
 "cells": [
  {
   "cell_type": "markdown",
   "id": "09773f9e",
   "metadata": {},
   "source": [
    "Assignment10\n",
    "\n",
    "1.Write a Python Program to find sum of elements in a list ?"
   ]
  },
  {
   "cell_type": "code",
   "execution_count": 1,
   "id": "3f892949",
   "metadata": {},
   "outputs": [
    {
     "name": "stdout",
     "output_type": "stream",
     "text": [
      "Enter the No of Entries in a List: 3\n",
      "Enter a element: 1\n",
      "Enter a element: 2\n",
      "Enter a element: 3\n",
      "Sum of Elements: 6\n"
     ]
    }
   ],
   "source": [
    "def sumofList():\n",
    "    in_ele = int(input('Enter the No of Entries in a List: '))\n",
    "    in_list = []\n",
    "    for itr in range(in_ele):\n",
    "        in_list.append(int(input('Enter a element: ')))\n",
    "    print(f'Sum of Elements: {sum(in_list)}')\n",
    "\n",
    "sumofList()"
   ]
  },
  {
   "cell_type": "markdown",
   "id": "7843813f",
   "metadata": {},
   "source": [
    "2.Write a Python Program to multiply all numbers in the list ?"
   ]
  },
  {
   "cell_type": "code",
   "execution_count": 2,
   "id": "471c1cf2",
   "metadata": {},
   "outputs": [
    {
     "name": "stdout",
     "output_type": "stream",
     "text": [
      "Enter the No of Entries in a List: 5\n",
      "Enter a element: 1\n",
      "Enter a element: 2\n",
      "Enter a element: 3\n",
      "Enter a element: 4\n",
      "Enter a element: 5\n",
      "120\n"
     ]
    }
   ],
   "source": [
    "def mulofList():\n",
    "    in_ele = int(input('Enter the No of Entries in a List: '))\n",
    "    in_list = []\n",
    "    mul = 1\n",
    "    for itr in range(in_ele):\n",
    "        in_list.append(int(input('Enter a element: ')))\n",
    "    for ele in in_list:\n",
    "        mul = mul * ele\n",
    "    print(mul)\n",
    "\n",
    "mulofList()"
   ]
  },
  {
   "cell_type": "markdown",
   "id": "adc8fb05",
   "metadata": {},
   "source": [
    "3.Write a Python Program to find smallest number in the list ?"
   ]
  },
  {
   "cell_type": "code",
   "execution_count": 4,
   "id": "56660202",
   "metadata": {},
   "outputs": [
    {
     "name": "stdout",
     "output_type": "stream",
     "text": [
      "Enter the No of elements in a list: 2\n",
      "Enter a Element: 43\n",
      "Enter a Element: 24\n",
      "The Smallest Element in [43, 24] is 24\n"
     ]
    }
   ],
   "source": [
    "def smallEleInList():\n",
    "    in_ele = int(input('Enter the No of elements in a list: '))\n",
    "    in_list = []\n",
    "    for ele in range(in_ele):\n",
    "        in_list.append(int(input('Enter a Element: ')))\n",
    "    print(f'The Smallest Element in {in_list} is {sorted(in_list)[0]}')\n",
    "smallEleInList()"
   ]
  },
  {
   "cell_type": "markdown",
   "id": "f9020a26",
   "metadata": {},
   "source": [
    "4.Write a Python Program to find largest number in the list ?"
   ]
  },
  {
   "cell_type": "code",
   "execution_count": 5,
   "id": "944281d4",
   "metadata": {},
   "outputs": [
    {
     "name": "stdout",
     "output_type": "stream",
     "text": [
      "Enter the No of elements in a list: 3\n",
      "Enter a Element: 1\n",
      "Enter a Element: 3\n",
      "Enter a Element: 4\n",
      "The Largest Element in [1, 3, 4] is 4\n"
     ]
    }
   ],
   "source": [
    "def largestEleInList():\n",
    "    in_ele = int(input('Enter the No of elements in a list: '))\n",
    "    in_list = []\n",
    "    for ele in range(in_ele):\n",
    "        in_list.append(int(input('Enter a Element: ')))\n",
    "    print(f'The Largest Element in {in_list} is {sorted(in_list, reverse=True)[0]}')\n",
    "\n",
    "largestEleInList()"
   ]
  },
  {
   "cell_type": "markdown",
   "id": "7c5890ea",
   "metadata": {},
   "source": [
    "5.Write a Python Program to find second largest number in the list ?"
   ]
  },
  {
   "cell_type": "code",
   "execution_count": 6,
   "id": "ca6e8fc0",
   "metadata": {},
   "outputs": [
    {
     "name": "stdout",
     "output_type": "stream",
     "text": [
      "Enter the No of elements in a list: 23\n",
      "Enter a Element: 45\n",
      "Enter a Element: 67\n",
      "Enter a Element: 34\n",
      "Enter a Element: 34\n",
      "Enter a Element: 34\n",
      "Enter a Element: 55\n",
      "Enter a Element: 78\n",
      "Enter a Element: 1\n",
      "Enter a Element: 3\n",
      "Enter a Element: 4\n",
      "Enter a Element: 56\n",
      "Enter a Element: 77\n",
      "Enter a Element: 88\n",
      "Enter a Element: 88\n",
      "Enter a Element: 99\n",
      "Enter a Element: 99\n",
      "Enter a Element: 66\n",
      "Enter a Element: 332\n",
      "Enter a Element: 11\n",
      "Enter a Element: 112\n",
      "Enter a Element: 2\n",
      "Enter a Element: 3\n",
      "Enter a Element: 4\n",
      "The Second Largest Element in [45, 67, 34, 34, 34, 55, 78, 1, 3, 4, 56, 77, 88, 88, 99, 99, 66, 332, 11, 112, 2, 3, 4] is 112\n"
     ]
    }
   ],
   "source": [
    "def secondLargestEleInList():\n",
    "    in_ele = int(input('Enter the No of elements in a list: '))\n",
    "    in_list = []\n",
    "    for ele in range(in_ele):\n",
    "        in_list.append(int(input('Enter a Element: ')))\n",
    "    print(f'The Second Largest Element in {in_list} is {sorted(in_list, reverse=True)[1]}')\n",
    "\n",
    "secondLargestEleInList()"
   ]
  },
  {
   "cell_type": "markdown",
   "id": "793d69f3",
   "metadata": {},
   "source": [
    "6.Write a Python Program to find N largest elements in the list ?"
   ]
  },
  {
   "cell_type": "code",
   "execution_count": 8,
   "id": "1c4a5709",
   "metadata": {},
   "outputs": [
    {
     "name": "stdout",
     "output_type": "stream",
     "text": [
      "Enter the No of elements in a list: 2\n",
      "Enter a Element: 3\n",
      "Enter a Element: 1\n",
      "The 4 Largest Element in [3, 1] is [3, 1]\n"
     ]
    }
   ],
   "source": [
    "def nLargestEleInList(k):\n",
    "    in_ele = int(input('Enter the No of elements in a list: '))\n",
    "    in_list = []\n",
    "    for ele in range(in_ele):\n",
    "        in_list.append(int(input('Enter a Element: ')))\n",
    "    print(f'The {k} Largest Element in {in_list} is {sorted(in_list, reverse=True)[0:k]}')\n",
    "\n",
    "nLargestEleInList(4)"
   ]
  },
  {
   "cell_type": "markdown",
   "id": "de3805b3",
   "metadata": {},
   "source": [
    "7.Write a Python Program to find even numbers in the list ?"
   ]
  },
  {
   "cell_type": "code",
   "execution_count": 9,
   "id": "6bdbd395",
   "metadata": {},
   "outputs": [
    {
     "name": "stdout",
     "output_type": "stream",
     "text": [
      "Enter the No of elements in a list: 3\n",
      "Enter a Element: 1\n",
      "Enter a Element: 4\n",
      "Enter a Element: 0\n",
      "The Even Elements in [1, 4, 0] are [4, 0]\n"
     ]
    }
   ],
   "source": [
    "def evenNoInList():\n",
    "    in_ele = int(input('Enter the No of elements in a list: '))\n",
    "    in_list = []\n",
    "    even_list = []\n",
    "    for ele in range(in_ele):\n",
    "        in_list.append(int(input('Enter a Element: ')))\n",
    "    for ele in in_list:\n",
    "        if ele%2 == 0:\n",
    "            even_list.append(ele)\n",
    "    print(f'The Even Elements in {in_list} are {even_list}')\n",
    "\n",
    "evenNoInList()"
   ]
  },
  {
   "cell_type": "markdown",
   "id": "39285e0a",
   "metadata": {},
   "source": [
    "8.Write a Python Program to find odd numbers in the list ?"
   ]
  },
  {
   "cell_type": "code",
   "execution_count": 10,
   "id": "7075389a",
   "metadata": {},
   "outputs": [
    {
     "name": "stdout",
     "output_type": "stream",
     "text": [
      "Enter the No of elements in a list: 3\n",
      "Enter a Element: 45\n",
      "Enter a Element: 67\n",
      "Enter a Element: 34\n",
      "The Even Elements in [45, 67, 34] are [45, 67]\n"
     ]
    }
   ],
   "source": [
    "def oddNoInList():\n",
    "    in_ele = int(input('Enter the No of elements in a list: '))\n",
    "    in_list = []\n",
    "    odd_list = []\n",
    "    for ele in range(in_ele):\n",
    "        in_list.append(int(input('Enter a Element: ')))\n",
    "    for ele in in_list:\n",
    "        if ele%2 != 0:\n",
    "            odd_list.append(ele)\n",
    "    print(f'The Even Elements in {in_list} are {odd_list}')\n",
    "\n",
    "oddNoInList()"
   ]
  },
  {
   "cell_type": "markdown",
   "id": "1d8c332a",
   "metadata": {},
   "source": [
    "9.Write a Python Program to remove empty list from list ?"
   ]
  },
  {
   "cell_type": "code",
   "execution_count": 11,
   "id": "3fa2d35c",
   "metadata": {},
   "outputs": [
    {
     "name": "stdout",
     "output_type": "stream",
     "text": [
      "Enter all elements of the list: 2\n"
     ]
    },
    {
     "ename": "TypeError",
     "evalue": "argument of type 'int' is not iterable",
     "output_type": "error",
     "traceback": [
      "\u001b[1;31m---------------------------------------------------------------------------\u001b[0m",
      "\u001b[1;31mTypeError\u001b[0m                                 Traceback (most recent call last)",
      "\u001b[1;32m~\\AppData\\Local\\Temp/ipykernel_2300/1898396982.py\u001b[0m in \u001b[0;36m<module>\u001b[1;34m\u001b[0m\n\u001b[0;32m      8\u001b[0m         \u001b[0mprint\u001b[0m\u001b[1;33m(\u001b[0m\u001b[1;34mf'There is no [] List in the list {in_list}'\u001b[0m\u001b[1;33m)\u001b[0m\u001b[1;33m\u001b[0m\u001b[1;33m\u001b[0m\u001b[0m\n\u001b[0;32m      9\u001b[0m \u001b[1;33m\u001b[0m\u001b[0m\n\u001b[1;32m---> 10\u001b[1;33m \u001b[0mcheckEmptyList\u001b[0m\u001b[1;33m(\u001b[0m\u001b[1;33m)\u001b[0m\u001b[1;33m\u001b[0m\u001b[1;33m\u001b[0m\u001b[0m\n\u001b[0m",
      "\u001b[1;32m~\\AppData\\Local\\Temp/ipykernel_2300/1898396982.py\u001b[0m in \u001b[0;36mcheckEmptyList\u001b[1;34m()\u001b[0m\n\u001b[0;32m      1\u001b[0m \u001b[1;32mdef\u001b[0m \u001b[0mcheckEmptyList\u001b[0m\u001b[1;33m(\u001b[0m\u001b[1;33m)\u001b[0m\u001b[1;33m:\u001b[0m\u001b[1;33m\u001b[0m\u001b[1;33m\u001b[0m\u001b[0m\n\u001b[0;32m      2\u001b[0m     \u001b[0min_list\u001b[0m \u001b[1;33m=\u001b[0m \u001b[0meval\u001b[0m\u001b[1;33m(\u001b[0m\u001b[0minput\u001b[0m\u001b[1;33m(\u001b[0m\u001b[1;34m'Enter all elements of the list: '\u001b[0m\u001b[1;33m)\u001b[0m\u001b[1;33m)\u001b[0m\u001b[1;33m\u001b[0m\u001b[1;33m\u001b[0m\u001b[0m\n\u001b[1;32m----> 3\u001b[1;33m     \u001b[1;32mif\u001b[0m \u001b[1;33m[\u001b[0m\u001b[1;33m]\u001b[0m \u001b[1;32min\u001b[0m \u001b[0min_list\u001b[0m\u001b[1;33m:\u001b[0m\u001b[1;33m\u001b[0m\u001b[1;33m\u001b[0m\u001b[0m\n\u001b[0m\u001b[0;32m      4\u001b[0m         \u001b[0mprint\u001b[0m\u001b[1;33m(\u001b[0m\u001b[1;34mf'There is an Empty list in {in_list} at Position {in_list.index([])}'\u001b[0m\u001b[1;33m)\u001b[0m\u001b[1;33m\u001b[0m\u001b[1;33m\u001b[0m\u001b[0m\n\u001b[0;32m      5\u001b[0m         \u001b[0min_list\u001b[0m\u001b[1;33m.\u001b[0m\u001b[0mremove\u001b[0m\u001b[1;33m(\u001b[0m\u001b[1;33m[\u001b[0m\u001b[1;33m]\u001b[0m\u001b[1;33m)\u001b[0m\u001b[1;33m\u001b[0m\u001b[1;33m\u001b[0m\u001b[0m\n",
      "\u001b[1;31mTypeError\u001b[0m: argument of type 'int' is not iterable"
     ]
    }
   ],
   "source": [
    "def checkEmptyList():\n",
    "    in_list = eval(input('Enter all elements of the list: '))\n",
    "    if [] in in_list:\n",
    "        print(f'There is an Empty list in {in_list} at Position {in_list.index([])}')\n",
    "        in_list.remove([])\n",
    "        print(f'The List after removing [] is {in_list}')\n",
    "    else:\n",
    "        print(f'There is no [] List in the list {in_list}')\n",
    "        \n",
    "checkEmptyList()"
   ]
  },
  {
   "cell_type": "markdown",
   "id": "29dd4463",
   "metadata": {},
   "source": [
    "10.Write a Python Program to Cloning or Copying a list ?"
   ]
  },
  {
   "cell_type": "code",
   "execution_count": 12,
   "id": "923f010c",
   "metadata": {},
   "outputs": [
    {
     "name": "stdout",
     "output_type": "stream",
     "text": [
      "Enter a list2,3,4,4,5\n",
      "(2, 3, 4, 4, 5) 1668856933728\n"
     ]
    },
    {
     "ename": "AttributeError",
     "evalue": "'tuple' object has no attribute 'copy'",
     "output_type": "error",
     "traceback": [
      "\u001b[1;31m---------------------------------------------------------------------------\u001b[0m",
      "\u001b[1;31mAttributeError\u001b[0m                            Traceback (most recent call last)",
      "\u001b[1;32m~\\AppData\\Local\\Temp/ipykernel_2300/4244599494.py\u001b[0m in \u001b[0;36m<module>\u001b[1;34m\u001b[0m\n\u001b[0;32m      7\u001b[0m     \u001b[0mprint\u001b[0m\u001b[1;33m(\u001b[0m\u001b[0mcloned_list\u001b[0m\u001b[1;33m,\u001b[0m \u001b[0mid\u001b[0m\u001b[1;33m(\u001b[0m\u001b[0mcloned_list\u001b[0m\u001b[1;33m)\u001b[0m\u001b[1;33m)\u001b[0m\u001b[1;33m\u001b[0m\u001b[1;33m\u001b[0m\u001b[0m\n\u001b[0;32m      8\u001b[0m \u001b[1;33m\u001b[0m\u001b[0m\n\u001b[1;32m----> 9\u001b[1;33m \u001b[0mcloneList\u001b[0m\u001b[1;33m(\u001b[0m\u001b[1;33m)\u001b[0m\u001b[1;33m\u001b[0m\u001b[1;33m\u001b[0m\u001b[0m\n\u001b[0m",
      "\u001b[1;32m~\\AppData\\Local\\Temp/ipykernel_2300/4244599494.py\u001b[0m in \u001b[0;36mcloneList\u001b[1;34m()\u001b[0m\n\u001b[0;32m      4\u001b[0m     \u001b[0min_list\u001b[0m \u001b[1;33m=\u001b[0m \u001b[0meval\u001b[0m\u001b[1;33m(\u001b[0m\u001b[0minput\u001b[0m\u001b[1;33m(\u001b[0m\u001b[1;34m'Enter a list'\u001b[0m\u001b[1;33m)\u001b[0m\u001b[1;33m)\u001b[0m\u001b[1;33m\u001b[0m\u001b[1;33m\u001b[0m\u001b[0m\n\u001b[0;32m      5\u001b[0m     \u001b[0mprint\u001b[0m\u001b[1;33m(\u001b[0m\u001b[0min_list\u001b[0m\u001b[1;33m,\u001b[0m \u001b[0mid\u001b[0m\u001b[1;33m(\u001b[0m\u001b[0min_list\u001b[0m\u001b[1;33m)\u001b[0m\u001b[1;33m)\u001b[0m\u001b[1;33m\u001b[0m\u001b[1;33m\u001b[0m\u001b[0m\n\u001b[1;32m----> 6\u001b[1;33m     \u001b[0mcloned_list\u001b[0m \u001b[1;33m=\u001b[0m \u001b[0min_list\u001b[0m\u001b[1;33m.\u001b[0m\u001b[0mcopy\u001b[0m\u001b[1;33m(\u001b[0m\u001b[1;33m)\u001b[0m\u001b[1;33m\u001b[0m\u001b[1;33m\u001b[0m\u001b[0m\n\u001b[0m\u001b[0;32m      7\u001b[0m     \u001b[0mprint\u001b[0m\u001b[1;33m(\u001b[0m\u001b[0mcloned_list\u001b[0m\u001b[1;33m,\u001b[0m \u001b[0mid\u001b[0m\u001b[1;33m(\u001b[0m\u001b[0mcloned_list\u001b[0m\u001b[1;33m)\u001b[0m\u001b[1;33m)\u001b[0m\u001b[1;33m\u001b[0m\u001b[1;33m\u001b[0m\u001b[0m\n\u001b[0;32m      8\u001b[0m \u001b[1;33m\u001b[0m\u001b[0m\n",
      "\u001b[1;31mAttributeError\u001b[0m: 'tuple' object has no attribute 'copy'"
     ]
    }
   ],
   "source": [
    "import copy\n",
    "\n",
    "def cloneList():\n",
    "    in_list = eval(input('Enter a list'))\n",
    "    print(in_list, id(in_list))\n",
    "    cloned_list = in_list.copy()\n",
    "    print(cloned_list, id(cloned_list))\n",
    "\n",
    "cloneList()"
   ]
  },
  {
   "cell_type": "markdown",
   "id": "02aed5af",
   "metadata": {},
   "source": [
    "11.Write a Python Program to count occurences of an element in a list ?"
   ]
  },
  {
   "cell_type": "code",
   "execution_count": 13,
   "id": "940e6a54",
   "metadata": {},
   "outputs": [
    {
     "name": "stdout",
     "output_type": "stream",
     "text": [
      "Enter the elements of the list: 2,4,5,6,7\n",
      "Enter the element to find: 1,2,4,5,6\n",
      "There are 0 occurences of (1, 2, 4, 5, 6) in (2, 4, 5, 6, 7)\n"
     ]
    }
   ],
   "source": [
    "def checkOccurence():\n",
    "    in_list = eval(input('Enter the elements of the list: '))\n",
    "    in_num = eval(input('Enter the element to find: '))\n",
    "    count = 0\n",
    "    if in_num in in_list:\n",
    "        for ele in in_list:\n",
    "            if ele == in_num:\n",
    "                count = count+1\n",
    "    print(f'There are {count} occurences of {in_num} in {in_list}')\n",
    "    \n",
    "checkOccurence()"
   ]
  },
  {
   "cell_type": "code",
   "execution_count": null,
   "id": "f4085084",
   "metadata": {},
   "outputs": [],
   "source": []
  }
 ],
 "metadata": {
  "kernelspec": {
   "display_name": "Python 3 (ipykernel)",
   "language": "python",
   "name": "python3"
  },
  "language_info": {
   "codemirror_mode": {
    "name": "ipython",
    "version": 3
   },
   "file_extension": ".py",
   "mimetype": "text/x-python",
   "name": "python",
   "nbconvert_exporter": "python",
   "pygments_lexer": "ipython3",
   "version": "3.9.7"
  }
 },
 "nbformat": 4,
 "nbformat_minor": 5
}
