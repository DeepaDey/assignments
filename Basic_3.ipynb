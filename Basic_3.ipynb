{
 "cells": [
  {
   "cell_type": "markdown",
   "id": "797bcd95",
   "metadata": {},
   "source": [
    "Assignment3 \n",
    "\n",
    "1.Write a Python program to check if a Number is Positive, Negative or Zero ?"
   ]
  },
  {
   "cell_type": "code",
   "execution_count": 1,
   "id": "59d19956",
   "metadata": {},
   "outputs": [
    {
     "name": "stdout",
     "output_type": "stream",
     "text": [
      "Enter a number: 5\n",
      "5 is a Postive number\n"
     ]
    }
   ],
   "source": [
    "def checkNumber(num):\n",
    "    if num > 0:\n",
    "        print('{} is a Postive number'.format(num))\n",
    "    elif num < 0:\n",
    "        print('{} is a Negative number'.format(num))\n",
    "    else:\n",
    "        print(\"Number is Zero\")\n",
    "        \n",
    "num = int(input(\"Enter a number: \"))\n",
    "checkNumber(num)"
   ]
  },
  {
   "cell_type": "markdown",
   "id": "a4040931",
   "metadata": {},
   "source": [
    "2.Write a Python program to check if a Number is Odd or Even ?"
   ]
  },
  {
   "cell_type": "code",
   "execution_count": 2,
   "id": "6aae894c",
   "metadata": {},
   "outputs": [
    {
     "name": "stdout",
     "output_type": "stream",
     "text": [
      "Enter a number: 67\n",
      "67 is a Odd number\n"
     ]
    }
   ],
   "source": [
    "def checkNumber(num):\n",
    "    if num%2 == 0:\n",
    "        print('{} is a Even number'.format(num))\n",
    "    else:\n",
    "        print('{} is a Odd number'.format(num))\n",
    "        \n",
    "num = int(input(\"Enter a number: \"))\n",
    "checkNumber(num)"
   ]
  },
  {
   "cell_type": "markdown",
   "id": "b4738b42",
   "metadata": {},
   "source": [
    "3.Write a Python program to check Leap Year ?"
   ]
  },
  {
   "cell_type": "code",
   "execution_count": 3,
   "id": "489234ed",
   "metadata": {},
   "outputs": [
    {
     "name": "stdout",
     "output_type": "stream",
     "text": [
      "Enter year: 2024\n",
      "2024 is a Leap year\n"
     ]
    }
   ],
   "source": [
    "def checkYear(year):\n",
    "    if (year%4 == 0 and year%100 != 0 or year%400 == 0):\n",
    "        print(f'{year} is a Leap year')\n",
    "    else:\n",
    "        print(f'{year} is not a Leap year')\n",
    "\n",
    "year = int(input(\"Enter year: \"))\n",
    "checkYear(year)"
   ]
  },
  {
   "cell_type": "markdown",
   "id": "3b1c3cf0",
   "metadata": {},
   "source": [
    "4.Write a Python program to check Prime Number ?"
   ]
  },
  {
   "cell_type": "code",
   "execution_count": 4,
   "id": "7874155f",
   "metadata": {},
   "outputs": [
    {
     "name": "stdout",
     "output_type": "stream",
     "text": [
      "Enter a number: 87\n",
      "87 is not a prime number\n"
     ]
    }
   ],
   "source": [
    "def isPrime(num):\n",
    "    flag = False\n",
    "    for i in range(2,num):\n",
    "        if num%i ==0:\n",
    "            flag= True\n",
    "            break\n",
    "    if(not flag):\n",
    "        print(f'{num} is a prime number')\n",
    "    else:\n",
    "        print(f'{num} is not a prime number')\n",
    "        \n",
    "number = int(input(\"Enter a number: \"))\n",
    "isPrime(number)"
   ]
  },
  {
   "cell_type": "markdown",
   "id": "c18d1699",
   "metadata": {},
   "source": [
    "5.Write a Python program to print all Prime Numbers in an interval of 1-10000 ?"
   ]
  },
  {
   "cell_type": "code",
   "execution_count": null,
   "id": "630286a9",
   "metadata": {},
   "outputs": [],
   "source": []
  }
 ],
 "metadata": {
  "kernelspec": {
   "display_name": "Python 3 (ipykernel)",
   "language": "python",
   "name": "python3"
  },
  "language_info": {
   "codemirror_mode": {
    "name": "ipython",
    "version": 3
   },
   "file_extension": ".py",
   "mimetype": "text/x-python",
   "name": "python",
   "nbconvert_exporter": "python",
   "pygments_lexer": "ipython3",
   "version": "3.9.7"
  }
 },
 "nbformat": 4,
 "nbformat_minor": 5
}
