{
 "cells": [
  {
   "cell_type": "markdown",
   "id": "63116efe",
   "metadata": {},
   "source": [
    "1. In the below elements which of them are values or an expression? eg:- values can be integer or string and expressions will be mathematical operators.\n",
    "* \n",
    "'hello'\n",
    "-87.8\n",
    "- \n",
    "/ \n",
    "+\n",
    "6 \n"
   ]
  },
  {
   "cell_type": "code",
   "execution_count": null,
   "id": "a1b23402",
   "metadata": {},
   "outputs": [],
   "source": [
    "* :expression\n",
    "'hello':value\n",
    "-87.8:value\n",
    "- :expression\n",
    "/ :expression\n",
    "+ :expression\n",
    "6 :value\n"
   ]
  },
  {
   "cell_type": "markdown",
   "id": "d0c42ae3",
   "metadata": {},
   "source": [
    "2. What is the difference between string and variable?"
   ]
  },
  {
   "cell_type": "code",
   "execution_count": null,
   "id": "be181be3",
   "metadata": {},
   "outputs": [],
   "source": [
    "Strings in Python are identified as a contiguous set of characters represented in the\n",
    "quotation marks. Python allows for either pairs of single or double quotes.\n",
    "'Hello' is the same as \"Hello\".\n",
    "\n",
    "Whereas, variables are nothing but reserved memory locations to store values. This means that when\n",
    "you create a variable you reserve some space in memory."
   ]
  },
  {
   "cell_type": "code",
   "execution_count": null,
   "id": "1a9c6b0d",
   "metadata": {},
   "outputs": [],
   "source": [
    "3. Describe three different data types."
   ]
  },
  {
   "cell_type": "code",
   "execution_count": null,
   "id": "654b1138",
   "metadata": {},
   "outputs": [],
   "source": [
    "The three different data types are List, Integer and Float\n",
    "\n",
    "List is a collection which is ordered and changeable and allows duplicate members.For using a list, we must declare it first by using square brackets and separate\n",
    "values with commas.Eg [1, 2, 3, 'A', 'B', 7, 8, [10, 11]]\n",
    "\n",
    "Integer or Int, is a whole number, positive or negative, without decimals, of unlimited\n",
    "length. Eg 357489\n",
    "\n",
    "Float, or \"floating point number\" is a number, positive or negative, containing decimals. Eg: 5666.0005\n"
   ]
  },
  {
   "cell_type": "markdown",
   "id": "24034b1c",
   "metadata": {},
   "source": [
    "4. What is an expression made up of? What do all expressions do?"
   ]
  },
  {
   "cell_type": "code",
   "execution_count": null,
   "id": "43bbb3ed",
   "metadata": {},
   "outputs": [],
   "source": [
    "An expression is a combination of values, variables, and operators. eg: X=Y-3\n",
    " Expressions are used to evaluate the values which will represent the results on the screen."
   ]
  },
  {
   "cell_type": "markdown",
   "id": "0742f6a0",
   "metadata": {},
   "source": [
    "5. This assignment statements, like spam = 10. What is the difference between an expression and a statement?"
   ]
  },
  {
   "cell_type": "code",
   "execution_count": null,
   "id": "e28424c4",
   "metadata": {},
   "outputs": [],
   "source": [
    "An expression is a combination of values, variables, and operators.\n",
    "While a statement is an instruction that the Python interpreter can execute. "
   ]
  },
  {
   "cell_type": "markdown",
   "id": "704692a8",
   "metadata": {},
   "source": [
    "6. After running the following code, what does the variable bacon contain?\n",
    "bacon = 22\n",
    "bacon + 1\n"
   ]
  },
  {
   "cell_type": "code",
   "execution_count": 2,
   "id": "42d4ecd5",
   "metadata": {},
   "outputs": [],
   "source": [
    "bacon=22"
   ]
  },
  {
   "cell_type": "code",
   "execution_count": 3,
   "id": "611c9aa7",
   "metadata": {},
   "outputs": [
    {
     "data": {
      "text/plain": [
       "23"
      ]
     },
     "execution_count": 3,
     "metadata": {},
     "output_type": "execute_result"
    }
   ],
   "source": [
    "bacon+1"
   ]
  },
  {
   "cell_type": "code",
   "execution_count": null,
   "id": "60009499",
   "metadata": {},
   "outputs": [],
   "source": [
    "The variable bacon contain 23 as a result"
   ]
  },
  {
   "cell_type": "markdown",
   "id": "8da8f9af",
   "metadata": {},
   "source": [
    "7. What should the values of the following two terms be?\n",
    "'spam' + 'spamspam'\n",
    "'spam' * 3\n"
   ]
  },
  {
   "cell_type": "code",
   "execution_count": 4,
   "id": "4bc49f2a",
   "metadata": {},
   "outputs": [
    {
     "data": {
      "text/plain": [
       "'spamspamspam'"
      ]
     },
     "execution_count": 4,
     "metadata": {},
     "output_type": "execute_result"
    }
   ],
   "source": [
    "'spam' + 'spamspam'"
   ]
  },
  {
   "cell_type": "code",
   "execution_count": 5,
   "id": "52d4b9b3",
   "metadata": {},
   "outputs": [
    {
     "data": {
      "text/plain": [
       "'spamspamspam'"
      ]
     },
     "execution_count": 5,
     "metadata": {},
     "output_type": "execute_result"
    }
   ],
   "source": [
    "'spam' * 3"
   ]
  },
  {
   "cell_type": "code",
   "execution_count": null,
   "id": "750e7fe3",
   "metadata": {},
   "outputs": [],
   "source": [
    "the values of the two terms are same which is 'spamspamspam'"
   ]
  },
  {
   "cell_type": "markdown",
   "id": "3b805fec",
   "metadata": {},
   "source": [
    "8. Why is eggs a valid variable name while 100 is invalid?"
   ]
  },
  {
   "cell_type": "code",
   "execution_count": null,
   "id": "aa29449c",
   "metadata": {},
   "outputs": [],
   "source": [
    " Variable names cannot begin with a number that is why 100 is invalid in this case."
   ]
  },
  {
   "cell_type": "markdown",
   "id": "acf3bc09",
   "metadata": {},
   "source": [
    "9. What three functions can be used to get the integer, floating-point number, or string version of a value?"
   ]
  },
  {
   "cell_type": "code",
   "execution_count": null,
   "id": "1da1b497",
   "metadata": {},
   "outputs": [],
   "source": [
    "Int(), Float(), Str()"
   ]
  },
  {
   "cell_type": "markdown",
   "id": "a5471127",
   "metadata": {},
   "source": [
    "10. Why does this expression cause an error? How can you fix it?\n",
    "'I have eaten ' + 99 + ' burritos.'\n"
   ]
  },
  {
   "cell_type": "code",
   "execution_count": null,
   "id": "a9a4e223",
   "metadata": {},
   "outputs": [],
   "source": [
    "This expression causing an error since 'I have eaten ' and ' burritos.' both are sting which is written inside the single quotes .To fix it we can rewite the statement as\n",
    "'I have eaten 99 burritos' , 99 need to be inside the single quote."
   ]
  },
  {
   "cell_type": "code",
   "execution_count": null,
   "id": "b5a3f035",
   "metadata": {},
   "outputs": [],
   "source": []
  },
  {
   "cell_type": "code",
   "execution_count": null,
   "id": "119730b0",
   "metadata": {},
   "outputs": [],
   "source": []
  }
 ],
 "metadata": {
  "kernelspec": {
   "display_name": "Python 3 (ipykernel)",
   "language": "python",
   "name": "python3"
  },
  "language_info": {
   "codemirror_mode": {
    "name": "ipython",
    "version": 3
   },
   "file_extension": ".py",
   "mimetype": "text/x-python",
   "name": "python",
   "nbconvert_exporter": "python",
   "pygments_lexer": "ipython3",
   "version": "3.9.7"
  }
 },
 "nbformat": 4,
 "nbformat_minor": 5
}
